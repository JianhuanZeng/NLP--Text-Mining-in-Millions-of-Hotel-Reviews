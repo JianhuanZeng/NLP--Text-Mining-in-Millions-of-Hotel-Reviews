{
 "cells": [
  {
   "cell_type": "markdown",
   "metadata": {},
   "source": [
    "# Clean Text "
   ]
  },
  {
   "cell_type": "code",
   "execution_count": 1,
   "metadata": {
    "collapsed": true
   },
   "outputs": [],
   "source": [
    "import pandas as pd\n",
    "import os\n",
    "import re"
   ]
  },
  {
   "cell_type": "code",
   "execution_count": 2,
   "metadata": {
    "collapsed": true
   },
   "outputs": [],
   "source": [
    "dt = pd.read_csv(os.path.join(\"/Users/Project/RawData\", 'HotelsReviews.csv'))"
   ]
  },
  {
   "cell_type": "code",
   "execution_count": 3,
   "metadata": {},
   "outputs": [
    {
     "data": {
      "text/html": [
       "<div>\n",
       "<style>\n",
       "    .dataframe thead tr:only-child th {\n",
       "        text-align: right;\n",
       "    }\n",
       "\n",
       "    .dataframe thead th {\n",
       "        text-align: left;\n",
       "    }\n",
       "\n",
       "    .dataframe tbody tr th {\n",
       "        vertical-align: top;\n",
       "    }\n",
       "</style>\n",
       "<table border=\"1\" class=\"dataframe\">\n",
       "  <thead>\n",
       "    <tr style=\"text-align: right;\">\n",
       "      <th></th>\n",
       "      <th>reviewdate</th>\n",
       "      <th>star</th>\n",
       "      <th>user_info</th>\n",
       "      <th>Hotel Name</th>\n",
       "      <th>Street</th>\n",
       "      <th>City</th>\n",
       "      <th>State</th>\n",
       "      <th>Zip</th>\n",
       "      <th>reviews</th>\n",
       "    </tr>\n",
       "  </thead>\n",
       "  <tbody>\n",
       "    <tr>\n",
       "      <th>0</th>\n",
       "      <td>9/4/05</td>\n",
       "      <td>5</td>\n",
       "      <td>Sharon-JoeJr</td>\n",
       "      <td>1 Church Street The White House Inn</td>\n",
       "      <td>1 Church Street</td>\n",
       "      <td>Belfast</td>\n",
       "      <td>ME</td>\n",
       "      <td>4915</td>\n",
       "      <td>Comfortable elegance, Wonderful Hosts  Terry a...</td>\n",
       "    </tr>\n",
       "    <tr>\n",
       "      <th>1</th>\n",
       "      <td>8/6/07</td>\n",
       "      <td>5</td>\n",
       "      <td>UKMaggiemay</td>\n",
       "      <td>1 Church Street The White House Inn</td>\n",
       "      <td>1 Church Street</td>\n",
       "      <td>Belfast</td>\n",
       "      <td>ME</td>\n",
       "      <td>4915</td>\n",
       "      <td>Superb, we stayed at this wonderful BB 3 years...</td>\n",
       "    </tr>\n",
       "    <tr>\n",
       "      <th>2</th>\n",
       "      <td>8/24/07</td>\n",
       "      <td>5</td>\n",
       "      <td>MattMcLean</td>\n",
       "      <td>1 Church Street The White House Inn</td>\n",
       "      <td>1 Church Street</td>\n",
       "      <td>Belfast</td>\n",
       "      <td>ME</td>\n",
       "      <td>4915</td>\n",
       "      <td>Fantastic Experience, We just returned from a ...</td>\n",
       "    </tr>\n",
       "    <tr>\n",
       "      <th>3</th>\n",
       "      <td>6/3/09</td>\n",
       "      <td>5</td>\n",
       "      <td>PWalk</td>\n",
       "      <td>1 Church Street The White House Inn</td>\n",
       "      <td>1 Church Street</td>\n",
       "      <td>Belfast</td>\n",
       "      <td>ME</td>\n",
       "      <td>4915</td>\n",
       "      <td>A Lovely Time, What a lovely time The hosts ar...</td>\n",
       "    </tr>\n",
       "    <tr>\n",
       "      <th>4</th>\n",
       "      <td>6/11/09</td>\n",
       "      <td>5</td>\n",
       "      <td>swimmerbee</td>\n",
       "      <td>1 Church Street The White House Inn</td>\n",
       "      <td>1 Church Street</td>\n",
       "      <td>Belfast</td>\n",
       "      <td>ME</td>\n",
       "      <td>4915</td>\n",
       "      <td>Perfect, We were originally going to stay in P...</td>\n",
       "    </tr>\n",
       "  </tbody>\n",
       "</table>\n",
       "</div>"
      ],
      "text/plain": [
       "  reviewdate  star     user_info                           Hotel Name  \\\n",
       "0     9/4/05     5  Sharon-JoeJr  1 Church Street The White House Inn   \n",
       "1     8/6/07     5   UKMaggiemay  1 Church Street The White House Inn   \n",
       "2    8/24/07     5    MattMcLean  1 Church Street The White House Inn   \n",
       "3     6/3/09     5         PWalk  1 Church Street The White House Inn   \n",
       "4    6/11/09     5    swimmerbee  1 Church Street The White House Inn   \n",
       "\n",
       "            Street     City State   Zip  \\\n",
       "0  1 Church Street  Belfast    ME  4915   \n",
       "1  1 Church Street  Belfast    ME  4915   \n",
       "2  1 Church Street  Belfast    ME  4915   \n",
       "3  1 Church Street  Belfast    ME  4915   \n",
       "4  1 Church Street  Belfast    ME  4915   \n",
       "\n",
       "                                             reviews  \n",
       "0  Comfortable elegance, Wonderful Hosts  Terry a...  \n",
       "1  Superb, we stayed at this wonderful BB 3 years...  \n",
       "2  Fantastic Experience, We just returned from a ...  \n",
       "3  A Lovely Time, What a lovely time The hosts ar...  \n",
       "4  Perfect, We were originally going to stay in P...  "
      ]
     },
     "execution_count": 3,
     "metadata": {},
     "output_type": "execute_result"
    }
   ],
   "source": [
    "dt.head()"
   ]
  },
  {
   "cell_type": "code",
   "execution_count": null,
   "metadata": {
    "collapsed": true
   },
   "outputs": [],
   "source": [
    "import nltk.data\n",
    "nltk.download()"
   ]
  },
  {
   "cell_type": "code",
   "execution_count": null,
   "metadata": {
    "collapsed": true
   },
   "outputs": [],
   "source": [
    "from nltk.corpus import stopwords\n",
    "\n",
    "def text2wordlist( text):\n",
    "    # remove non-letters\n",
    "    txt=re.sub(\"[^a-zA-Z]\",\" \",text)\n",
    "    # convert to lower case\n",
    "    words=txt.lower().split()\n",
    "    # remove stop words\n",
    "    stop_wds=set(stopwords.words(\"english\"))\n",
    "    stop_wds.add('nan')\n",
    "    words = [w for w in words if not w in stop_wds]\n",
    "    return words"
   ]
  },
  {
   "cell_type": "code",
   "execution_count": null,
   "metadata": {
    "collapsed": true
   },
   "outputs": [],
   "source": [
    "import nltk.data\n",
    "tokenizer=nltk.data.load('tokenizers/punkt/english.pickle')\n",
    "\n",
    "def text2sentences( text, tokenizer):\n",
    "    # the NLTK tokenizer to split the paragraph into sentences\n",
    "    raw_sentences = tokenizer.tokenize(text.strip())\n",
    "    sentences = []\n",
    "    for raw_sentence in raw_sentences:\n",
    "        if len(raw_sentence) > 0:\n",
    "            sentences.append( text2wordlist( raw_sentence))\n",
    "    return sentences"
   ]
  },
  {
   "cell_type": "code",
   "execution_count": null,
   "metadata": {
    "collapsed": true
   },
   "outputs": [],
   "source": [
    "t1='...Beautiful hotel. Wonderful for any occasion.'\n",
    "tokenizer.tokenize(t1.strip())"
   ]
  },
  {
   "cell_type": "code",
   "execution_count": null,
   "metadata": {},
   "outputs": [],
   "source": [
    "hotel=dt['Hotel Name'][1]\n",
    "texts=dt['reviews']\n",
    "HotelID=[hotel]\n",
    "words_i=[]\n",
    "\n",
    "for i in range(len(texts)):\n",
    "    if dt['Hotel Name'][i]==hotel:\n",
    "        words_i.append(text2sentences(texts[i],tokenizer))\n",
    "    else:\n",
    "        print('now for hotel: '+str(hotel))\n",
    "        HotelID.append(dt['Hotel Name'][i])\n",
    "        hotel=dt['Hotel Name'][i]"
   ]
  },
  {
   "cell_type": "code",
   "execution_count": null,
   "metadata": {
    "collapsed": true
   },
   "outputs": [],
   "source": [
    "# write id in order \n",
    "with open('hotels_ids.txt', 'w') as file:\n",
    "     file.write(str(HotelID))\n",
    "        \n",
    "# write clean text in order       \n",
    "with open('hotels_review.txt', 'w') as file:\n",
    "    file.write(str(words_i[1]))        \n",
    "for i in range(1,len(words_i)):\n",
    "    with open('hotels_review.txt', 'd') as file:\n",
    "         file.write(str(words_i[i]))"
   ]
  },
  {
   "cell_type": "code",
   "execution_count": null,
   "metadata": {
    "collapsed": true
   },
   "outputs": [],
   "source": [
    "import re\n",
    "with open('hotels_review.txt', 'r') as file:\n",
    "    for i in file:\n",
    "        txt=re.sub(\"\\[\",\"{\",i) \n",
    "txt=re.sub(\"]\",\"}\",txt) "
   ]
  },
  {
   "cell_type": "markdown",
   "metadata": {},
   "source": [
    "# Train Model"
   ]
  },
  {
   "cell_type": "code",
   "execution_count": null,
   "metadata": {
    "collapsed": true
   },
   "outputs": [],
   "source": [
    "# creates nice output messages\n",
    "import logging\n",
    "logging.basicConfig(format='%(asctime)s : %(levelname)s : %(message)s',\\\n",
    "    level=logging.INFO)"
   ]
  },
  {
   "cell_type": "code",
   "execution_count": null,
   "metadata": {
    "collapsed": true
   },
   "outputs": [],
   "source": [
    "# set values for various parameters\n",
    "num_features = 50    # Word vector dimensionality                      \n",
    "min_word_count = 100  # Minimum word count                        \n",
    "num_workers = 5       # Number of threads to run in parallel\n",
    "context = 5          # Context window size                                                                                    \n",
    "downsampling = 1e-3   # Downsample setting for frequent words"
   ]
  },
  {
   "cell_type": "code",
   "execution_count": null,
   "metadata": {
    "collapsed": true
   },
   "outputs": [],
   "source": [
    "# input\n",
    "sentences=[]\n",
    "for i in range(len(words_i)):\n",
    "    sentences += words_i[1]"
   ]
  },
  {
   "cell_type": "code",
   "execution_count": null,
   "metadata": {
    "collapsed": true
   },
   "outputs": [],
   "source": [
    "len(sentences)"
   ]
  },
  {
   "cell_type": "code",
   "execution_count": null,
   "metadata": {
    "collapsed": true
   },
   "outputs": [],
   "source": [
    "# train the model (this will take some time)\n",
    "import gensim\n",
    "from gensim.models import word2vec\n",
    "print(\"   Training model...\")\n",
    "model = word2vec.Word2Vec(sentences, workers=num_workers, \\\n",
    "            size=num_features, min_count = min_word_count, \\\n",
    "            window = context, sample = downsampling)"
   ]
  },
  {
   "cell_type": "code",
   "execution_count": null,
   "metadata": {
    "collapsed": true
   },
   "outputs": [],
   "source": [
    "model.most_similar(\"service\")"
   ]
  },
  {
   "cell_type": "code",
   "execution_count": null,
   "metadata": {
    "collapsed": true
   },
   "outputs": [],
   "source": [
    "model.most_similar(\"beds\")"
   ]
  },
  {
   "cell_type": "code",
   "execution_count": null,
   "metadata": {
    "collapsed": true
   },
   "outputs": [],
   "source": [
    "model.doesnt_match(\"man night love kitchen beds lots\".split())"
   ]
  },
  {
   "cell_type": "code",
   "execution_count": null,
   "metadata": {
    "collapsed": true
   },
   "outputs": [],
   "source": [
    "model.wv.syn0.shape"
   ]
  },
  {
   "cell_type": "code",
   "execution_count": null,
   "metadata": {
    "collapsed": true
   },
   "outputs": [],
   "source": [
    "model.init_sims(replace=True)\n",
    "model_name = \"textmining_200d100\"\n",
    "model.save(model_name)"
   ]
  },
  {
   "cell_type": "code",
   "execution_count": null,
   "metadata": {
    "collapsed": true
   },
   "outputs": [],
   "source": [
    "# model = Word2Vec.load(\"textmining_200d100\")"
   ]
  },
  {
   "cell_type": "markdown",
   "metadata": {},
   "source": [
    "# K mean"
   ]
  },
  {
   "cell_type": "code",
   "execution_count": null,
   "metadata": {
    "collapsed": true
   },
   "outputs": [],
   "source": [
    "import numpy as np\n",
    "from sklearn.cluster import KMeans\n",
    "import time"
   ]
  },
  {
   "cell_type": "code",
   "execution_count": null,
   "metadata": {
    "collapsed": true
   },
   "outputs": [],
   "source": [
    "model.wv.syn0.shape[0]"
   ]
  },
  {
   "cell_type": "code",
   "execution_count": null,
   "metadata": {
    "collapsed": true
   },
   "outputs": [],
   "source": [
    "num_clusters"
   ]
  },
  {
   "cell_type": "code",
   "execution_count": null,
   "metadata": {
    "collapsed": true
   },
   "outputs": [],
   "source": [
    "start = time.time()\n",
    "\n",
    "num_clusters = int(model.wv.syn0.shape[0]/10)\n",
    "kmeans_clustering = KMeans( n_clusters = num_clusters )\n",
    "idx = kmeans_clustering.fit_predict( word_vectors )\n",
    "\n",
    "end = time.time()\n",
    "elapsed = end - start\n",
    "\n",
    "print(\"number of clusters: \"+str(num_clusters))\n",
    "print(\"Time taken for K Means clustering: \", elapsed, \"seconds.\")"
   ]
  },
  {
   "cell_type": "code",
   "execution_count": null,
   "metadata": {
    "collapsed": true
   },
   "outputs": [],
   "source": [
    "word_centroid_map = dict(zip( model.wv.index2word, idx ))"
   ]
  },
  {
   "cell_type": "code",
   "execution_count": null,
   "metadata": {
    "collapsed": true
   },
   "outputs": [],
   "source": [
    "word_centroid_map"
   ]
  }
 ],
 "metadata": {
  "kernelspec": {
   "display_name": "Python 3",
   "language": "python",
   "name": "python3"
  },
  "language_info": {
   "codemirror_mode": {
    "name": "ipython",
    "version": 3
   },
   "file_extension": ".py",
   "mimetype": "text/x-python",
   "name": "python",
   "nbconvert_exporter": "python",
   "pygments_lexer": "ipython3",
   "version": "3.6.3"
  }
 },
 "nbformat": 4,
 "nbformat_minor": 2
}
